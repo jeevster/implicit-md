{
 "cells": [
  {
   "cell_type": "code",
   "execution_count": 1,
   "id": "41a15d5e",
   "metadata": {},
   "outputs": [
    {
     "ename": "FileNotFoundError",
     "evalue": "[Errno 2] No such file or directory: '/home/sanjeevr/implicit-md/n=256_box=7_temp=1_eps=1.0_sigma=1.0_nn=False.npy'",
     "output_type": "error",
     "traceback": [
      "\u001b[0;31m---------------------------------------------------------------------------\u001b[0m",
      "\u001b[0;31mFileNotFoundError\u001b[0m                         Traceback (most recent call last)",
      "Cell \u001b[0;32mIn[1], line 4\u001b[0m\n\u001b[1;32m      1\u001b[0m \u001b[38;5;28;01mimport\u001b[39;00m \u001b[38;5;21;01mnumpy\u001b[39;00m \u001b[38;5;28;01mas\u001b[39;00m \u001b[38;5;21;01mnp\u001b[39;00m\n\u001b[1;32m      2\u001b[0m \u001b[38;5;28;01mimport\u001b[39;00m \u001b[38;5;21;01mmatplotlib\u001b[39;00m\u001b[38;5;21;01m.\u001b[39;00m\u001b[38;5;21;01mpyplot\u001b[39;00m \u001b[38;5;28;01mas\u001b[39;00m \u001b[38;5;21;01mplt\u001b[39;00m\n\u001b[0;32m----> 4\u001b[0m g_r_diff \u001b[38;5;241m=\u001b[39m \u001b[43mnp\u001b[49m\u001b[38;5;241;43m.\u001b[39;49m\u001b[43mload\u001b[49m\u001b[43m(\u001b[49m\u001b[38;5;124;43m\"\u001b[39;49m\u001b[38;5;124;43m/home/sanjeevr/implicit-md/n=256_box=7_temp=1_eps=1.0_sigma=1.0_nn=False.npy\u001b[39;49m\u001b[38;5;124;43m\"\u001b[39;49m\u001b[43m)\u001b[49m\n\u001b[1;32m      5\u001b[0m plt\u001b[38;5;241m.\u001b[39mplot(np\u001b[38;5;241m.\u001b[39mlinspace(\u001b[38;5;241m1\u001b[39m, \u001b[38;5;241m1000\u001b[39m, \u001b[38;5;241m999\u001b[39m), g_r_diff, label \u001b[38;5;241m=\u001b[39m \u001b[38;5;124m'\u001b[39m\u001b[38;5;124mtrue\u001b[39m\u001b[38;5;124m'\u001b[39m)\n\u001b[1;32m      6\u001b[0m plt\u001b[38;5;241m.\u001b[39mxlabel(\u001b[38;5;124m\"\u001b[39m\u001b[38;5;124mTimestep\u001b[39m\u001b[38;5;124m\"\u001b[39m)\n",
      "File \u001b[0;32m~/.local/lib/python3.10/site-packages/numpy/lib/npyio.py:405\u001b[0m, in \u001b[0;36mload\u001b[0;34m(file, mmap_mode, allow_pickle, fix_imports, encoding, max_header_size)\u001b[0m\n\u001b[1;32m    403\u001b[0m     own_fid \u001b[38;5;241m=\u001b[39m \u001b[38;5;28;01mFalse\u001b[39;00m\n\u001b[1;32m    404\u001b[0m \u001b[38;5;28;01melse\u001b[39;00m:\n\u001b[0;32m--> 405\u001b[0m     fid \u001b[38;5;241m=\u001b[39m stack\u001b[38;5;241m.\u001b[39menter_context(\u001b[38;5;28;43mopen\u001b[39;49m\u001b[43m(\u001b[49m\u001b[43mos_fspath\u001b[49m\u001b[43m(\u001b[49m\u001b[43mfile\u001b[49m\u001b[43m)\u001b[49m\u001b[43m,\u001b[49m\u001b[43m \u001b[49m\u001b[38;5;124;43m\"\u001b[39;49m\u001b[38;5;124;43mrb\u001b[39;49m\u001b[38;5;124;43m\"\u001b[39;49m\u001b[43m)\u001b[49m)\n\u001b[1;32m    406\u001b[0m     own_fid \u001b[38;5;241m=\u001b[39m \u001b[38;5;28;01mTrue\u001b[39;00m\n\u001b[1;32m    408\u001b[0m \u001b[38;5;66;03m# Code to distinguish from NumPy binary files and pickles.\u001b[39;00m\n",
      "\u001b[0;31mFileNotFoundError\u001b[0m: [Errno 2] No such file or directory: '/home/sanjeevr/implicit-md/n=256_box=7_temp=1_eps=1.0_sigma=1.0_nn=False.npy'"
     ]
    }
   ],
   "source": [
    "import numpy as np\n",
    "import matplotlib.pyplot as plt\n",
    "\n",
    "g_r_diff = np.load(\"/home/sanjeevr/implicit-md/n=256_box=7_temp=1_eps=1.0_sigma=1.0_nn=False.npy\")\n",
    "plt.plot(np.linspace(1, 1000, 999), g_r_diff, label = 'true')\n",
    "plt.xlabel(\"Timestep\")\n",
    "plt.ylabel(\"Average Relative Difference in RDF from Previous Timestep\")\n",
    "\n",
    "g_r_diff = np.load(\"/home/sanjeevr/implicit-md/n=256_box=7_temp=1_eps=1.0_sigma=1.0_nn=True.npy\")\n",
    "#plt.plot(np.linspace(1, 1000, 999), g_r_diff, label = 'NN-untrained')\n",
    "\n",
    "plt.yscale('log')\n",
    "plt.xscale('log')\n",
    "\n",
    "\n",
    "# plt.axhline(2.5, c = 'g')\n",
    "# plt.axvline(50, c = 'g')\n",
    "\n",
    "\n",
    "\n",
    "plt.legend()\n"
   ]
  },
  {
   "cell_type": "code",
   "execution_count": 4,
   "id": "a295dcbc",
   "metadata": {},
   "outputs": [
    {
     "name": "stderr",
     "output_type": "stream",
     "text": [
      "100%|██████████████████████████████████████| 494/494 [00:40<00:00, 12.31it/s]\n"
     ]
    },
    {
     "data": {
      "text/plain": [
       "<Figure size 640x480 with 0 Axes>"
      ]
     },
     "metadata": {},
     "output_type": "display_data"
    }
   ],
   "source": [
    "import numpy as np\n",
    "import time\n",
    "import matplotlib.pyplot as plt\n",
    "from tqdm import tqdm\n",
    "\n",
    "fig = plt.figure()\n",
    "ax = fig.add_subplot(1, 1, 1)\n",
    "\n",
    "\n",
    "\n",
    "for i in tqdm(range(494)):\n",
    "    step = 20*(i) + 121\n",
    "    g_r = np.load(f\"/home/sanjeevr/implicit-md/ground_truth_polylj/n=255_box=7_temp=0.8_eps=0.2_sigma=1.0/step{step}_vacf.npy\")\n",
    "    plt.plot(g_r)\n",
    "    plt.xlim(0, 100)\n",
    "    plt.ylim(-1, 1)\n",
    "    plt.title(f\"Timestep {step}\")\n",
    "    plt.savefig(f\"/home/sanjeevr/implicit-md/ground_truth_polylj/n=255_box=7_temp=0.8_eps=0.2_sigma=1.0/step{step}_vacf.png\")\n",
    "    plt.clf()\n",
    "\n",
    "\n",
    "    "
   ]
  },
  {
   "cell_type": "code",
   "execution_count": 5,
   "id": "b8ea71e8",
   "metadata": {},
   "outputs": [
    {
     "name": "stderr",
     "output_type": "stream",
     "text": [
      "100%|█████████████████████████████████████| 494/494 [00:02<00:00, 189.01it/s]\n"
     ]
    }
   ],
   "source": [
    "import cv2\n",
    "import os\n",
    "from tqdm import tqdm\n",
    "\n",
    "# Get a list of all the image filenames in the current directory\n",
    "image_filenames = [filename for filename in os.listdir(\"/home/sanjeevr/implicit-md/ground_truth_polylj/n=255_box=7_temp=0.8_eps=0.2_sigma=1.0\") if filename.endswith('.png')]\n",
    "# Sort the image filenames in numerical order\n",
    "# Define the video codec and frame rate\n",
    "fourcc = cv2.VideoWriter_fourcc(*'mp4v')\n",
    "fps = 30.0\n",
    "\n",
    "# Set the video size to the same size as the first image\n",
    "img = cv2.imread(os.path.join(\"/home/sanjeevr/implicit-md/ground_truth_polylj/n=255_box=7_temp=0.8_eps=0.2_sigma=1.0\", image_filenames[0]))\n",
    "height, width, _ = img.shape\n",
    "video_size = (width, height)\n",
    "\n",
    "# Create the video writer\n",
    "out = cv2.VideoWriter('output_vacf.mp4', fourcc, fps, video_size)\n",
    "\n",
    "# Iterate over all the image filenames and add them to the video\n",
    "for i in tqdm(range(494)):\n",
    "    # Load the image\n",
    "    step = 20*i+121\n",
    "    image_filename = f\"step{step}_vacf.png\"\n",
    "    img = cv2.imread(os.path.join(\"/home/sanjeevr/implicit-md/ground_truth_polylj/n=255_box=7_temp=0.8_eps=0.2_sigma=1.0\", image_filename))\n",
    "    \n",
    "    # Add the image to the video\n",
    "    out.write(img)\n",
    "\n",
    "# Release the video writer\n",
    "out.release()"
   ]
  },
  {
   "cell_type": "code",
   "execution_count": null,
   "id": "045ab6a5",
   "metadata": {},
   "outputs": [],
   "source": [
    "import numpy as np\n",
    "import time\n",
    "import matplotlib.pyplot as plt\n",
    "from tqdm import tqdm\n",
    "g_r_true = np.load(\"/home/sanjeevr/implicit-md/results_nnip/IMPLICIT_aspirin_TEST_bs100_norestart/gt_rdf.npy\")\n",
    "plt.plot(g_r_true, label = \"True Aspirin\")\n",
    "\n",
    "g_r = np.load(\"/home/sanjeevr/implicit-md/results_nnip/IMPLICIT_aspirin_TEST_bs100_norestart/rdf_epoch1.npy\")\n",
    "plt.plot(g_r, label = \"RDF Epoch 1\")\n",
    "print(g_r.sum())\n",
    "print(g_r_true.sum())\n",
    "\n",
    "# g_r_pred = np.load(\"/home/sanjeevr/implicit-md/results_nnip/IMPLICIT_aspirin_TEST_mymodel/rdf_epoch1.npy\")\n",
    "# plt.plot(g_r_pred, label = \"Pred IFT\")\n",
    "\n",
    "\n",
    "# g_r = np.load(\"/home/sanjeevr/implicit-md/results/IMPLICIT_n=256_box=7_temp=1_eps=1.0_sigma=1.0/rdf_epoch1.npy\")\n",
    "# plt.plot(g_r, label = \"Epoch 1\")\n",
    "\n",
    "# g_r = np.load(\"/home/sanjeevr/implicit-md/results/IMPLICIT_n=256_box=7_temp=1_eps=1.0_sigma=1.0/rdf_epoch25.npy\")\n",
    "# plt.plot(g_r, label = \"Epoch 25\")\n",
    "\n",
    "# g_r = np.load(\"/home/sanjeevr/implicit-md/results/IMPLICIT_n=512_box=7_temp=1_eps=1.0_sigma=1.0/rdf_epoch1_nn=False.npy\")\n",
    "# plt.plot(g_r, label = \"True 512\")\n",
    "\n",
    "# g_r = np.load(\"/home/sanjeevr/implicit-md/results/IMPLICIT_n=1024_box=7_temp=1_eps=1.0_sigma=1.0/rdf_epoch1_nn=False.npy\")\n",
    "# plt.plot(g_r, label = \"True 1024\")\n",
    "\n",
    "\n",
    "\n",
    "\n",
    "plt.legend()\n"
   ]
  },
  {
   "cell_type": "code",
   "execution_count": 7,
   "id": "cb25dfa6",
   "metadata": {},
   "outputs": [
    {
     "data": {
      "image/png": "[encoded data removed]",
      "text/plain": [
       "<Figure size 640x480 with 1 Axes>"
      ]
     },
     "metadata": {},
     "output_type": "display_data"
    }
   ],
   "source": [
    "import numpy as np\n",
    "\n",
    "# Define the inverse of the CDF\n",
    "def inv_cdf(y, x_min):\n",
    "    return np.power(x_min/(1.0-y), 1.0/2.0)\n",
    "\n",
    "# Generate uniform samples between 0 and 1\n",
    "n_samples = 1000\n",
    "u = np.random.uniform(0, 1, n_samples)\n",
    "\n",
    "# Transform uniform samples into power law samples\n",
    "x = inv_cdf(u, x_min = 0.3)\n",
    "\n",
    "# Verify the distribution using a histogram\n",
    "import matplotlib.pyplot as plt\n",
    "plt.hist(x, bins=50, density=True)\n",
    "plt.show()\n",
    "\n",
    "\n",
    "\n",
    "\n",
    "\n",
    "\n",
    "\n",
    "\n"
   ]
  },
  {
   "cell_type": "code",
   "execution_count": 3,
   "id": "c250278a",
   "metadata": {},
   "outputs": [
    {
     "name": "stdout",
     "output_type": "stream",
     "text": [
      "200\n"
     ]
    },
    {
     "data": {
      "image/png": "[encoded data removed]",
      "text/plain": [
       "<Figure size 640x480 with 1 Axes>"
      ]
     },
     "metadata": {},
     "output_type": "display_data"
    }
   ],
   "source": [
    "import gsd.hoomd\n",
    "from torchmd.observable import rdf, generate_vol_bins, DifferentiableRDF, msd, DiffusionCoefficient\n",
    "import torch\n",
    "import matplotlib.pyplot as plt\n",
    "import numpy as np\n",
    "from tqdm import tqdm\n",
    "\n",
    "diff_coeff = DiffusionCoefficient\n",
    "\n",
    "for temp in [0.8]:\n",
    "    f = gsd.hoomd.open(name=f'/home/sanjeevr/implicit-md/ground_truth_polylj/n=256_box=7_temp=0.8_eps=0.2_sigma=1.0/sim_temp0.8.gsd', mode='rb')\n",
    "    \n",
    "    positions = torch.cat([torch.tensor(frame.particles.position).unsqueeze(0) for frame in f], dim = 0)\n",
    "    print(len(positions))\n",
    "    msd_final = msd(positions.unsqueeze(1), 7)\n",
    "    plt.plot(1/2*np.linspace(1, len(positions), len(positions)), msd_final, label = f\"T={temp}\")\n",
    "    #plt.plot(1/20*np.linspace(1, len(positions)-5000, len(positions)-5000), diffusion_coeff, label = f\"diffusion_coeff@T={temp}\")\n",
    "plt.xlabel(\"Time\")\n",
    "plt.ylabel(\"MSD\")\n",
    "plt.title(\"Glassy dynamics system with 256 particles\")\n",
    "plt.legend()\n",
    "plt.yscale('log')\n",
    "plt.xscale('log')\n",
    "\n",
    "# gt_diff_coeff = np.load(\"/home/sanjeevr/implicit-md/ground_truth_polylj/n=256_box=7_temp=0.8_eps=0.2_sigma=1.0/gt_diff_coeff.npy\")\n",
    "# print(f\"Diffusion coefficient: {gt_diff_coeff}\")\n",
    "# gt_rdf = np.load(\"/home/sanjeevr/implicit-md/ground_truth_polylj/n=256_box=7_temp=0.8_eps=0.2_sigma=1.0/gt_rdf.npy\")\n",
    "\n",
    "# plt.figure()\n",
    "# plt.plot(gt_rdf, label = \"True 256\")\n",
    "# rdf = np.load(\"/home/sanjeevr/implicit-md/results/IMPLICIT_polylj__no_diffusion_n=256_box=7_temp=0.8_eps=0.2_sigma=1.0_dt=0.001_ttotal=5.0/rdf_epoch9.npy\")\n",
    "# plt.plot(rdf, label = \"Pred 256\")\n",
    "# plt.legend()\n"
   ]
  },
  {
   "cell_type": "code",
   "execution_count": null,
   "id": "4a5e2ad9",
   "metadata": {},
   "outputs": [
    {
     "name": "stdout",
     "output_type": "stream",
     "text": [
      "torch.Size([200, 256, 3])\n",
      "> \u001b[0;32m/home/sanjeevr/implicit-md/torchmd/observable.py\u001b[0m(410)\u001b[0;36mmsd\u001b[0;34m()\u001b[0m\n",
      "\u001b[0;32m    408 \u001b[0;31m    \u001b[0;32mimport\u001b[0m \u001b[0mpdb\u001b[0m\u001b[0;34m;\u001b[0m \u001b[0mpdb\u001b[0m\u001b[0;34m.\u001b[0m\u001b[0mset_trace\u001b[0m\u001b[0;34m(\u001b[0m\u001b[0;34m)\u001b[0m\u001b[0;34m\u001b[0m\u001b[0;34m\u001b[0m\u001b[0m\n",
      "\u001b[0m\u001b[0;32m    409 \u001b[0;31m    \u001b[0;31m#Input: positions tensor of shape [N_timesteps, N_replicas, N_particles, 3]\u001b[0m\u001b[0;34m\u001b[0m\u001b[0;34m\u001b[0m\u001b[0m\n",
      "\u001b[0m\u001b[0;32m--> 410 \u001b[0;31m    \u001b[0mmsd\u001b[0m \u001b[0;34m=\u001b[0m \u001b[0mtorch\u001b[0m\u001b[0;34m.\u001b[0m\u001b[0mzeros\u001b[0m\u001b[0;34m(\u001b[0m\u001b[0mpositions\u001b[0m\u001b[0;34m.\u001b[0m\u001b[0mshape\u001b[0m\u001b[0;34m[\u001b[0m\u001b[0;36m0\u001b[0m\u001b[0;34m]\u001b[0m\u001b[0;34m,\u001b[0m \u001b[0mpositions\u001b[0m\u001b[0;34m.\u001b[0m\u001b[0mshape\u001b[0m\u001b[0;34m[\u001b[0m\u001b[0;36m1\u001b[0m\u001b[0;34m]\u001b[0m\u001b[0;34m)\u001b[0m\u001b[0;34m\u001b[0m\u001b[0;34m\u001b[0m\u001b[0m\n",
      "\u001b[0m\u001b[0;32m    411 \u001b[0;31m    \u001b[0mtotal_displacements\u001b[0m \u001b[0;34m=\u001b[0m \u001b[0mtorch\u001b[0m\u001b[0;34m.\u001b[0m\u001b[0mzeros_like\u001b[0m\u001b[0;34m(\u001b[0m\u001b[0mpositions\u001b[0m\u001b[0;34m[\u001b[0m\u001b[0;36m0\u001b[0m\u001b[0;34m]\u001b[0m\u001b[0;34m)\u001b[0m\u001b[0;34m\u001b[0m\u001b[0;34m\u001b[0m\u001b[0m\n",
      "\u001b[0m\u001b[0;32m    412 \u001b[0;31m    \u001b[0;31m# Loop over time steps\u001b[0m\u001b[0;34m\u001b[0m\u001b[0;34m\u001b[0m\u001b[0m\n",
      "\u001b[0m\n",
      "ipdb> n\n",
      "> \u001b[0;32m/home/sanjeevr/implicit-md/torchmd/observable.py\u001b[0m(411)\u001b[0;36mmsd\u001b[0;34m()\u001b[0m\n",
      "\u001b[0;32m    409 \u001b[0;31m    \u001b[0;31m#Input: positions tensor of shape [N_timesteps, N_replicas, N_particles, 3]\u001b[0m\u001b[0;34m\u001b[0m\u001b[0;34m\u001b[0m\u001b[0m\n",
      "\u001b[0m\u001b[0;32m    410 \u001b[0;31m    \u001b[0mmsd\u001b[0m \u001b[0;34m=\u001b[0m \u001b[0mtorch\u001b[0m\u001b[0;34m.\u001b[0m\u001b[0mzeros\u001b[0m\u001b[0;34m(\u001b[0m\u001b[0mpositions\u001b[0m\u001b[0;34m.\u001b[0m\u001b[0mshape\u001b[0m\u001b[0;34m[\u001b[0m\u001b[0;36m0\u001b[0m\u001b[0;34m]\u001b[0m\u001b[0;34m,\u001b[0m \u001b[0mpositions\u001b[0m\u001b[0;34m.\u001b[0m\u001b[0mshape\u001b[0m\u001b[0;34m[\u001b[0m\u001b[0;36m1\u001b[0m\u001b[0;34m]\u001b[0m\u001b[0;34m)\u001b[0m\u001b[0;34m\u001b[0m\u001b[0;34m\u001b[0m\u001b[0m\n",
      "\u001b[0m\u001b[0;32m--> 411 \u001b[0;31m    \u001b[0mtotal_displacements\u001b[0m \u001b[0;34m=\u001b[0m \u001b[0mtorch\u001b[0m\u001b[0;34m.\u001b[0m\u001b[0mzeros_like\u001b[0m\u001b[0;34m(\u001b[0m\u001b[0mpositions\u001b[0m\u001b[0;34m[\u001b[0m\u001b[0;36m0\u001b[0m\u001b[0;34m]\u001b[0m\u001b[0;34m)\u001b[0m\u001b[0;34m\u001b[0m\u001b[0;34m\u001b[0m\u001b[0m\n",
      "\u001b[0m\u001b[0;32m    412 \u001b[0;31m    \u001b[0;31m# Loop over time steps\u001b[0m\u001b[0;34m\u001b[0m\u001b[0;34m\u001b[0m\u001b[0m\n",
      "\u001b[0m\u001b[0;32m    413 \u001b[0;31m    \u001b[0;32mfor\u001b[0m \u001b[0mstep\u001b[0m \u001b[0;32min\u001b[0m \u001b[0mrange\u001b[0m\u001b[0;34m(\u001b[0m\u001b[0;36m1\u001b[0m\u001b[0;34m,\u001b[0m \u001b[0mpositions\u001b[0m\u001b[0;34m.\u001b[0m\u001b[0mshape\u001b[0m\u001b[0;34m[\u001b[0m\u001b[0;36m0\u001b[0m\u001b[0;34m]\u001b[0m\u001b[0;34m)\u001b[0m\u001b[0;34m:\u001b[0m\u001b[0;34m\u001b[0m\u001b[0;34m\u001b[0m\u001b[0m\n",
      "\u001b[0m\n",
      "ipdb> msd.shape\n",
      "torch.Size([1, 200])\n",
      "ipdb> positions.shape\n",
      "torch.Size([1, 200, 256, 3])\n"
     ]
    }
   ],
   "source": [
    "import gsd.hoomd\n",
    "from torchmd.observable import rdf, generate_vol_bins, DifferentiableRDF, msd, DiffusionCoefficient\n",
    "import torch\n",
    "import matplotlib.pyplot as plt\n",
    "import numpy as np\n",
    "from tqdm import tqdm\n",
    "\n",
    "for temp in [0.8]:\n",
    "    f = gsd.hoomd.open(name=f'/home/sanjeevr/implicit-md/ground_truth_polylj/n=256_box=7_temp=0.8_eps=0.2_sigma=1.0/sim_temp0.8.gsd', mode='rb')\n",
    "    \n",
    "    positions = torch.cat([torch.tensor(frame.particles.position).unsqueeze(0) for frame in f], dim = 0)\n",
    "    print(positions.shape)\n",
    "    msd_final = msd(positions.unsqueeze(0), 7)\n",
    "    #sampled_points = msd_final[-100:]\n",
    "    n = msd_final.shape[0] # Number of training examples.\n",
    "    X = torch.linspace(0, 0.5*n, n)\n",
    "    X = torch.stack([X, torch.ones((n,))], dim = 1) #append column of ones for bias term\n",
    "\n",
    "    # The Normal Equation\n",
    "    X_T = torch.transpose(X, 0, 1)\n",
    "    X_T_X = torch.matmul(X_T, X)\n",
    "    X_T_X_inv = torch.inverse(X_T_X)\n",
    "    X_T_y = torch.matmul(X_T, msd_final)\n",
    "    theta = torch.matmul(X_T_X_inv, X_T_y)\n",
    "    print(theta[0])\n",
    "    \n",
    "    diffusion_coeff = 1/6 * (msd_final[500:] - msd_final[0:-500]) / (500*0.005*100)\n",
    "    plt.plot(1/2*np.linspace(1, len(msd_final), len(msd_final)), msd_final, label = f\"T={temp}\")\n",
    "    #plt.plot(1/20*np.linspace(1, len(positions)-500, len(positions)-500), diffusion_coeff, label = f\"diffusion_coeff@T={temp}\")\n",
    "plt.xlabel(\"Time\")\n",
    "plt.ylabel(\"MSD\")\n",
    "plt.title(\"Glassy dynamics system with 256 particles\")\n",
    "plt.legend()\n",
    "plt.yscale('log')\n",
    "plt.xscale('log')\n",
    "\n"
   ]
  },
  {
   "cell_type": "code",
   "execution_count": null,
   "id": "b48d1a7c",
   "metadata": {},
   "outputs": [],
   "source": []
  }
 ],
 "metadata": {
  "kernelspec": {
   "display_name": "Python 3 (ipykernel)",
   "language": "python",
   "name": "python3"
  },
  "language_info": {
   "codemirror_mode": {
    "name": "ipython",
    "version": 3
   },
   "file_extension": ".py",
   "mimetype": "text/x-python",
   "name": "python",
   "nbconvert_exporter": "python",
   "pygments_lexer": "ipython3",
   "version": "3.9.10"
  }
 },
 "nbformat": 4,
 "nbformat_minor": 5
}
