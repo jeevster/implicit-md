{
 "cells": [
  {
   "cell_type": "code",
   "execution_count": 1,
   "id": "41a15d5e",
   "metadata": {},
   "outputs": [
    {
     "ename": "FileNotFoundError",
     "evalue": "[Errno 2] No such file or directory: '/home/sanjeevr/implicit-md/n=256_box=7_temp=1_eps=1.0_sigma=1.0_nn=False.npy'",
     "output_type": "error",
     "traceback": [
      "\u001b[0;31m---------------------------------------------------------------------------\u001b[0m",
      "\u001b[0;31mFileNotFoundError\u001b[0m                         Traceback (most recent call last)",
      "Cell \u001b[0;32mIn[1], line 4\u001b[0m\n\u001b[1;32m      1\u001b[0m \u001b[38;5;28;01mimport\u001b[39;00m \u001b[38;5;21;01mnumpy\u001b[39;00m \u001b[38;5;28;01mas\u001b[39;00m \u001b[38;5;21;01mnp\u001b[39;00m\n\u001b[1;32m      2\u001b[0m \u001b[38;5;28;01mimport\u001b[39;00m \u001b[38;5;21;01mmatplotlib\u001b[39;00m\u001b[38;5;21;01m.\u001b[39;00m\u001b[38;5;21;01mpyplot\u001b[39;00m \u001b[38;5;28;01mas\u001b[39;00m \u001b[38;5;21;01mplt\u001b[39;00m\n\u001b[0;32m----> 4\u001b[0m g_r_diff \u001b[38;5;241m=\u001b[39m \u001b[43mnp\u001b[49m\u001b[38;5;241;43m.\u001b[39;49m\u001b[43mload\u001b[49m\u001b[43m(\u001b[49m\u001b[38;5;124;43m\"\u001b[39;49m\u001b[38;5;124;43m/home/sanjeevr/implicit-md/n=256_box=7_temp=1_eps=1.0_sigma=1.0_nn=False.npy\u001b[39;49m\u001b[38;5;124;43m\"\u001b[39;49m\u001b[43m)\u001b[49m\n\u001b[1;32m      5\u001b[0m plt\u001b[38;5;241m.\u001b[39mplot(np\u001b[38;5;241m.\u001b[39mlinspace(\u001b[38;5;241m1\u001b[39m, \u001b[38;5;241m1000\u001b[39m, \u001b[38;5;241m999\u001b[39m), g_r_diff, label \u001b[38;5;241m=\u001b[39m \u001b[38;5;124m'\u001b[39m\u001b[38;5;124mtrue\u001b[39m\u001b[38;5;124m'\u001b[39m)\n\u001b[1;32m      6\u001b[0m plt\u001b[38;5;241m.\u001b[39mxlabel(\u001b[38;5;124m\"\u001b[39m\u001b[38;5;124mTimestep\u001b[39m\u001b[38;5;124m\"\u001b[39m)\n",
      "File \u001b[0;32m~/.local/lib/python3.10/site-packages/numpy/lib/npyio.py:405\u001b[0m, in \u001b[0;36mload\u001b[0;34m(file, mmap_mode, allow_pickle, fix_imports, encoding, max_header_size)\u001b[0m\n\u001b[1;32m    403\u001b[0m     own_fid \u001b[38;5;241m=\u001b[39m \u001b[38;5;28;01mFalse\u001b[39;00m\n\u001b[1;32m    404\u001b[0m \u001b[38;5;28;01melse\u001b[39;00m:\n\u001b[0;32m--> 405\u001b[0m     fid \u001b[38;5;241m=\u001b[39m stack\u001b[38;5;241m.\u001b[39menter_context(\u001b[38;5;28;43mopen\u001b[39;49m\u001b[43m(\u001b[49m\u001b[43mos_fspath\u001b[49m\u001b[43m(\u001b[49m\u001b[43mfile\u001b[49m\u001b[43m)\u001b[49m\u001b[43m,\u001b[49m\u001b[43m \u001b[49m\u001b[38;5;124;43m\"\u001b[39;49m\u001b[38;5;124;43mrb\u001b[39;49m\u001b[38;5;124;43m\"\u001b[39;49m\u001b[43m)\u001b[49m)\n\u001b[1;32m    406\u001b[0m     own_fid \u001b[38;5;241m=\u001b[39m \u001b[38;5;28;01mTrue\u001b[39;00m\n\u001b[1;32m    408\u001b[0m \u001b[38;5;66;03m# Code to distinguish from NumPy binary files and pickles.\u001b[39;00m\n",
      "\u001b[0;31mFileNotFoundError\u001b[0m: [Errno 2] No such file or directory: '/home/sanjeevr/implicit-md/n=256_box=7_temp=1_eps=1.0_sigma=1.0_nn=False.npy'"
     ]
    }
   ],
   "source": [
    "import numpy as np\n",
    "import matplotlib.pyplot as plt\n",
    "\n",
    "g_r_diff = np.load(\"/home/sanjeevr/implicit-md/n=256_box=7_temp=1_eps=1.0_sigma=1.0_nn=False.npy\")\n",
    "plt.plot(np.linspace(1, 1000, 999), g_r_diff, label = 'true')\n",
    "plt.xlabel(\"Timestep\")\n",
    "plt.ylabel(\"Average Relative Difference in RDF from Previous Timestep\")\n",
    "\n",
    "g_r_diff = np.load(\"/home/sanjeevr/implicit-md/n=256_box=7_temp=1_eps=1.0_sigma=1.0_nn=True.npy\")\n",
    "#plt.plot(np.linspace(1, 1000, 999), g_r_diff, label = 'NN-untrained')\n",
    "\n",
    "plt.yscale('log')\n",
    "plt.xscale('log')\n",
    "\n",
    "\n",
    "# plt.axhline(2.5, c = 'g')\n",
    "# plt.axvline(50, c = 'g')\n",
    "\n",
    "\n",
    "\n",
    "plt.legend()\n"
   ]
  },
  {
   "cell_type": "code",
   "execution_count": 1,
   "id": "a295dcbc",
   "metadata": {},
   "outputs": [
    {
     "name": "stderr",
     "output_type": "stream",
     "text": [
      "100%|██████████████████████████████████████████████████████████████████████████████████| 200/200 [00:13<00:00, 14.80it/s]\n"
     ]
    },
    {
     "data": {
      "text/plain": [
       "<Figure size 640x480 with 0 Axes>"
      ]
     },
     "metadata": {},
     "output_type": "display_data"
    }
   ],
   "source": [
    "import numpy as np\n",
    "import time\n",
    "import matplotlib.pyplot as plt\n",
    "from tqdm import tqdm\n",
    "\n",
    "fig = plt.figure()\n",
    "ax = fig.add_subplot(1, 1, 1)\n",
    "\n",
    "\n",
    "\n",
    "for i in tqdm(range(200)):\n",
    "    step = 50*i + 1\n",
    "    g_r = np.load(f\"/home/sanjeevr/implicit-md/ground_truth/n=1024_box=7_temp=1_eps=1.0_sigma=1.0/step{step}_rdf.npy\")\n",
    "    plt.plot(g_r)\n",
    "    plt.xlim(0, 700)\n",
    "    plt.ylim(0, 14)\n",
    "    plt.title(f\"Timestep {step}\")\n",
    "    plt.savefig(f\"/home/sanjeevr/implicit-md/ground_truth/n=1024_box=7_temp=1_eps=1.0_sigma=1.0/{step}.png\")\n",
    "    plt.clf()\n",
    "\n",
    "    "
   ]
  },
  {
   "cell_type": "code",
   "execution_count": 2,
   "id": "b8ea71e8",
   "metadata": {},
   "outputs": [],
   "source": [
    "import cv2\n",
    "import os\n",
    "\n",
    "# Get a list of all the image filenames in the current directory\n",
    "image_filenames = [filename for filename in os.listdir(\"/home/sanjeevr/implicit-md/ground_truth/n=1024_box=7_temp=1_eps=1.0_sigma=1.0/\") if filename.endswith('.png')]\n",
    "\n",
    "# Sort the image filenames in numerical order\n",
    "image_filenames.sort(key=lambda filename: int(filename[:-4]))\n",
    "# Define the video codec and frame rate\n",
    "fourcc = cv2.VideoWriter_fourcc(*'mp4v')\n",
    "fps = 30.0\n",
    "\n",
    "# Set the video size to the same size as the first image\n",
    "img = cv2.imread(os.path.join(\"/home/sanjeevr/implicit-md/ground_truth/n=1024_box=7_temp=1_eps=1.0_sigma=1.0/\", image_filenames[0]))\n",
    "height, width, _ = img.shape\n",
    "video_size = (width, height)\n",
    "\n",
    "# Create the video writer\n",
    "out = cv2.VideoWriter('output_1024.mp4', fourcc, fps, video_size)\n",
    "\n",
    "# Iterate over all the image filenames and add them to the video\n",
    "for image_filename in image_filenames:\n",
    "    # Load the image\n",
    "    img = cv2.imread(os.path.join(\"/home/sanjeevr/implicit-md/ground_truth/n=1024_box=7_temp=1_eps=1.0_sigma=1.0/\", image_filename))\n",
    "    \n",
    "    # Add the image to the video\n",
    "    out.write(img)\n",
    "\n",
    "# Release the video writer\n",
    "out.release()\n"
   ]
  },
  {
   "cell_type": "code",
   "execution_count": null,
   "id": "045ab6a5",
   "metadata": {},
   "outputs": [],
   "source": [
    "import numpy as np\n",
    "import time\n",
    "import matplotlib.pyplot as plt\n",
    "from tqdm import tqdm\n",
    "g_r = np.load(\"/home/sanjeevr/implicit-md/ground_truth/n=256_box=7_temp=1_eps=1.0_sigma=1.0/gt_rdf.npy\")\n",
    "plt.plot(g_r, label = \"True 512\")\n",
    "\n",
    "g_r = np.load(\"/home/sanjeevr/implicit-md/ground_truth_posvelonly/n=256_box=7_temp=1_eps=1.0_sigma=1.0/gt_rdf.npy\")\n",
    "plt.plot(g_r, label = \"True 512 pos vel only\")\n",
    "\n",
    "# g_r = np.load(\"/home/sanjeevr/implicit-md/results/IMPLICIT_n=256_box=7_temp=1_eps=1.0_sigma=1.0/rdf_epoch1.npy\")\n",
    "# plt.plot(g_r, label = \"Epoch 1\")\n",
    "\n",
    "# g_r = np.load(\"/home/sanjeevr/implicit-md/results/IMPLICIT_n=256_box=7_temp=1_eps=1.0_sigma=1.0/rdf_epoch25.npy\")\n",
    "# plt.plot(g_r, label = \"Epoch 25\")\n",
    "\n",
    "# g_r = np.load(\"/home/sanjeevr/implicit-md/results/IMPLICIT_n=512_box=7_temp=1_eps=1.0_sigma=1.0/rdf_epoch1_nn=False.npy\")\n",
    "# plt.plot(g_r, label = \"True 512\")\n",
    "\n",
    "# g_r = np.load(\"/home/sanjeevr/implicit-md/results/IMPLICIT_n=1024_box=7_temp=1_eps=1.0_sigma=1.0/rdf_epoch1_nn=False.npy\")\n",
    "# plt.plot(g_r, label = \"True 1024\")\n",
    "\n",
    "\n",
    "\n",
    "\n",
    "plt.legend()\n"
   ]
  },
  {
   "cell_type": "code",
   "execution_count": null,
   "id": "c250278a",
   "metadata": {},
   "outputs": [],
   "source": []
  }
 ],
 "metadata": {
  "kernelspec": {
   "display_name": "Python 3 (ipykernel)",
   "language": "python",
   "name": "python3"
  },
  "language_info": {
   "codemirror_mode": {
    "name": "ipython",
    "version": 3
   },
   "file_extension": ".py",
   "mimetype": "text/x-python",
   "name": "python",
   "nbconvert_exporter": "python",
   "pygments_lexer": "ipython3",
   "version": "3.10.9"
  }
 },
 "nbformat": 4,
 "nbformat_minor": 5
}
