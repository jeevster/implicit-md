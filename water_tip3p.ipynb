{
 "cells": [
  {
   "cell_type": "code",
   "execution_count": 3,
   "metadata": {},
   "outputs": [
    {
     "data": {
      "text/plain": [
       "(192, 3)"
      ]
     },
     "execution_count": 3,
     "metadata": {},
     "output_type": "execute_result"
    }
   ],
   "source": [
    "import numpy as np\n",
    "import os\n",
    "\n",
    "import ase.units as units\n",
    "from ase import Atoms\n",
    "from ase.calculators.tip3p import TIP3P, angleHOH, rOH\n",
    "from ase.constraints import FixBondLengths\n",
    "from ase.io.trajectory import Trajectory\n",
    "from ase.md import Langevin\n",
    "\n",
    "from mdsim.datasets.lmdb_dataset import LmdbDataset\n",
    "from mdsim.common.utils import data_to_atoms\n",
    "\n",
    "#initialize datasets\n",
    "train_src = \"/data/sanjeevr/water/1k/train\"\n",
    "\n",
    "train_dataset = LmdbDataset({'src': train_src})\n",
    "\n",
    "#get random initial condition from dataset\n",
    "init_data = train_dataset.__getitem__(10)\n",
    "n_atoms = init_data['pos'].shape[0]\n",
    "atoms = data_to_atoms(init_data)\n",
    "\n",
    "\n",
    "atoms.positions.shape\n"
   ]
  },
  {
   "cell_type": "code",
   "execution_count": null,
   "metadata": {},
   "outputs": [],
   "source": []
  }
 ],
 "metadata": {
  "kernelspec": {
   "display_name": "ocp-models",
   "language": "python",
   "name": "python3"
  },
  "language_info": {
   "codemirror_mode": {
    "name": "ipython",
    "version": 3
   },
   "file_extension": ".py",
   "mimetype": "text/x-python",
   "name": "python",
   "nbconvert_exporter": "python",
   "pygments_lexer": "ipython3",
   "version": "3.9.18"
  }
 },
 "nbformat": 4,
 "nbformat_minor": 2
}
